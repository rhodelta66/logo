{
  "nbformat": 4,
  "nbformat_minor": 0,
  "metadata": {
    "colab": {
      "provenance": [],
      "authorship_tag": "ABX9TyN24HeCAIUlTYlhEx/KGDSE",
      "include_colab_link": true
    },
    "kernelspec": {
      "name": "python3",
      "display_name": "Python 3"
    },
    "language_info": {
      "name": "python"
    }
  },
  "cells": [
    {
      "cell_type": "markdown",
      "metadata": {
        "id": "view-in-github",
        "colab_type": "text"
      },
      "source": [
        "<a href=\"https://colab.research.google.com/github/rhodelta66/logo/blob/master/start.ipynb\" target=\"_parent\"><img src=\"https://colab.research.google.com/assets/colab-badge.svg\" alt=\"Open In Colab\"/></a>"
      ]
    },
    {
      "cell_type": "code",
      "execution_count": 15,
      "metadata": {
        "id": "dR3lDFvJgTzH"
      },
      "outputs": [],
      "source": []
    },
    {
      "cell_type": "markdown",
      "source": [
        "#Binki Bio#\n",
        "Hallo Ik ben **Binkie de beer**! Ik houd van:\n",
        "* Gebakken vis;\n",
        "* Gebraden vis;\n",
        "* Gepofte vis, *met veel pindasaus*.\n",
        "\n",
        "#Wat ik hier doe#\n",
        "\n",
        "Ik ben een programmeur.\n",
        "1. Ik kan met Python programmeren\n",
        "2. Ik kan met Markdown schrijven.\n",
        "3. Ik kan 3 dingen opsommen!\n",
        "\n",
        "Ik ben de slimste beer. [Google me maar!](https://letmegooglethat.com/?q=binkie+de+beer+is+de+slimste)\n"
      ],
      "metadata": {
        "id": "YY5GsCPVpZpa"
      }
    },
    {
      "cell_type": "markdown",
      "source": [],
      "metadata": {
        "id": "8lgCbflJqRr0"
      }
    },
    {
      "cell_type": "code",
      "source": [
        "print('Binkie!')"
      ],
      "metadata": {
        "colab": {
          "base_uri": "https://localhost:8080/"
        },
        "id": "nPAh_9WfhYsE",
        "outputId": "1de28cdc-1cf9-464b-e612-c765dfd84107"
      },
      "execution_count": 16,
      "outputs": [
        {
          "output_type": "stream",
          "name": "stdout",
          "text": [
            "Binkie!\n"
          ]
        }
      ]
    }
  ]
}